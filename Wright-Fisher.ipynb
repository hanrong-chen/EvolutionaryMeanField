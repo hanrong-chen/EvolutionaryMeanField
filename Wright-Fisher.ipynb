{
 "cells": [
  {
   "cell_type": "code",
   "execution_count": 1,
   "metadata": {
    "scrolled": true
   },
   "outputs": [],
   "source": [
    "using DelimitedFiles\n",
    "using LinearAlgebra\n",
    "using PyPlot\n",
    "include(\"functions/num2color.jl\");"
   ]
  },
  {
   "cell_type": "markdown",
   "metadata": {},
   "source": [
    "## 0. Choose protein and prevalence landscape"
   ]
  },
  {
   "cell_type": "code",
   "execution_count": 2,
   "metadata": {},
   "outputs": [],
   "source": [
    "####################################################################################################\n",
    "# To edit this code:\n",
    "# * change protein, polyprotein, polyprotein1\n",
    "####################################################################################################\n",
    "\n",
    "protein=\"p24\"\n",
    "polyprotein=\"gag\"\n",
    "polyprotein1=\"Gag\"\n",
    "L=231;"
   ]
  },
  {
   "cell_type": "code",
   "execution_count": 3,
   "metadata": {},
   "outputs": [],
   "source": [
    "ising_params0=readdlm(\"p24 landscape/p24-g2-0.0005-b-5870-gh-0.001/p24-out-learn.j\")\n",
    "\n",
    "# convert to square matrix\n",
    "ising_params=zeros(L,L)\n",
    "for i=1:L\n",
    "    ising_params[i,i]=ising_params0[i]\n",
    "end\n",
    "for i=1:L\n",
    "    for j=i+1:L\n",
    "        ising_params[i,j]=ising_params0[round(Int,L+(L-1)*L/2-(L-i)*(L-i+1)/2+(j-i))]\n",
    "        ising_params[j,i]=ising_params[i,j]\n",
    "    end\n",
    "end"
   ]
  },
  {
   "cell_type": "markdown",
   "metadata": {},
   "source": [
    "## I. Choose patient"
   ]
  },
  {
   "cell_type": "code",
   "execution_count": 4,
   "metadata": {},
   "outputs": [
    {
     "data": {
      "text/plain": [
       "\"700010058\""
      ]
     },
     "execution_count": 4,
     "metadata": {},
     "output_type": "execute_result"
    }
   ],
   "source": [
    "####################################################################################################\n",
    "# To edit this code:\n",
    "# * change patientid\n",
    "####################################################################################################\n",
    "\n",
    "patientid=\"CH058\"\n",
    "# patientid=\"CH077\"\n",
    "# patientid=\"CH159\"\n",
    "\n",
    "patientnames=Dict(\n",
    "    \"CH040\"=>\"700010040\",\n",
    "    \"CH058\"=>\"700010058\",\n",
    "    \"CH077\"=>\"700010077\",\n",
    "    \"CH470\"=>\"700010470\",\n",
    "    \"CH607\"=>\"700010607\",\n",
    "    \"CH131\"=>\"703010131\",\n",
    "    \"CH159\"=>\"703010159\",\n",
    "    \"CH256\"=>\"703010256\",\n",
    "    \"CH042\"=>\"704010042\",\n",
    "    \"CH067\"=>\"705010067\",\n",
    "    \"CH162\"=>\"705010162\",\n",
    "    \"CH185\"=>\"705010185\",\n",
    "    \"CH198\"=>\"705010198\",\n",
    "    \"CH164\"=>\"706010164\",\n",
    "    \"CAP045\"=>\"CAP45\",\n",
    "    \"CAP210\"=>\"CAP210\",\n",
    "    \"CAP239\"=>\"CAP239\")\n",
    "\n",
    "patient=patientnames[patientid]"
   ]
  },
  {
   "cell_type": "markdown",
   "metadata": {},
   "source": [
    "## II. Parse patient's sequences from fasta file"
   ]
  },
  {
   "cell_type": "code",
   "execution_count": 5,
   "metadata": {},
   "outputs": [
    {
     "name": "stdout",
     "output_type": "stream",
     "text": [
      "The first header contains \"HXB2\". Returning only subsequent headers and sequences.\n"
     ]
    }
   ],
   "source": [
    "####################################################################################################\n",
    "# Output:\n",
    "# * headersall, sequencesall\n",
    "# * headers, sequences, lenseq, numseq, timepoints, numsamples\n",
    "####################################################################################################\n",
    "\n",
    "include(\"functions/parse_fasta_file.jl\")\n",
    "include(\"functions/parse_patient_sequences.jl\")\n",
    "\n",
    "# read and parse fasta file\n",
    "protfilename=\"patient data/chavi-\"*patient*\"-aa-\"*protein*\".fasta\"\n",
    "headersall, sequencesall=read_fasta_file(protfilename)\n",
    "headers, sequences=remove_hxb2_fasta(headersall,sequencesall)\n",
    "lenseq=length(sequences[1])\n",
    "numseq=length(sequences)\n",
    "timepoints, numsamples=parse_patient_headers(headers);"
   ]
  },
  {
   "cell_type": "code",
   "execution_count": 6,
   "metadata": {},
   "outputs": [
    {
     "name": "stdout",
     "output_type": "stream",
     "text": [
      "The first header contains \"HXB2\". Returning only subsequent headers and sequences.\n"
     ]
    },
    {
     "data": {
      "text/plain": [
       "133"
      ]
     },
     "execution_count": 6,
     "metadata": {},
     "output_type": "execute_result"
    }
   ],
   "source": [
    "####################################################################################################\n",
    "# Output:\n",
    "# * polyheadersall, polysequencesall\n",
    "# * polyheaders, polysequences, polylenseq, polynumseq, polytimepoints, polynumsamples\n",
    "# * polyprotstart : location in the 1st polyprotein sequence where the 1st protein sequence is found, or 0 if not found\n",
    "\n",
    "# Find starting position of 1st protein sequence within 1st polyprotein sequence\n",
    "# NOTE: if polyprotstart=0, this means that there are multiple sequences at the initial timepoint,\n",
    "#       and the order of the samples is different between protein and polyprotein\n",
    "# 6/21/15: find starting position of p24 within gag using the gag fasta file\n",
    "# 6/21/16: generalize to any HIV polyprotein\n",
    "####################################################################################################\n",
    "\n",
    "# read and parse polyprotein fasta file\n",
    "polyfilename=\"patient data/chavi-\"*patient*\"-aa-\"*polyprotein*\".fasta\"\n",
    "polyheadersall, polysequencesall=read_fasta_file(polyfilename)\n",
    "polyheaders, polysequences=remove_hxb2_fasta(polyheadersall,polysequencesall)\n",
    "polylenseq=length(polysequences[1])\n",
    "polynumseq=length(polysequences)\n",
    "polytimepoints, polynumsamples=parse_patient_headers(polyheaders)\n",
    "\n",
    "# find the starting index that the string sequences[1] is found in polysequences[1]\n",
    "polyprotstart=findfirst(sequences[1],polysequences[1])[1]"
   ]
  },
  {
   "cell_type": "markdown",
   "metadata": {},
   "source": [
    "### (Ising) binarysequences"
   ]
  },
  {
   "cell_type": "code",
   "execution_count": 7,
   "metadata": {},
   "outputs": [
    {
     "data": {
      "text/plain": [
       "16×4 Array{Any,2}:\n",
       " [27, 91, 107, 120, 225]           Int64[]      8  6\n",
       " [27, 91, 107, 120, 225]           Int64[]     45  7\n",
       " [27, 91, 107, 116, 120, 225]      [116]       45  1\n",
       " [27, 91, 107, 110, 120, 225]      [110]       45  1\n",
       " [27, 91, 107, 120, 225]           Int64[]     85  1\n",
       " [27, 91, 107, 116, 120, 225]      [116]       85  6\n",
       " [27, 91, 107, 110, 120, 225]      [110]       85  2\n",
       " [27, 91, 107, 110, 120, 225]      [110]      154  2\n",
       " [27, 91, 107, 116, 120, 225]      [116]      154  5\n",
       " [27, 91, 107, 110, 120, 225]      [110]      239  7\n",
       " [27, 91, 92, 107, 116, 120, 225]  [92, 116]  239  1\n",
       " [27, 91, 107, 110, 120, 225]      [110]      252  7\n",
       " [27, 91, 92, 107, 116, 120, 225]  [92, 116]  252  1\n",
       " [11, 27, 91, 107, 110, 120, 225]  [11, 110]  350  1\n",
       " [15, 27, 91, 107, 110, 120, 225]  [15, 110]  350  1\n",
       " [27, 91, 107, 110, 120, 225]      [110]      350  2"
      ]
     },
     "execution_count": 7,
     "metadata": {},
     "output_type": "execute_result"
    }
   ],
   "source": [
    "####################################################################################################\n",
    "# Output:\n",
    "# * binarysequences, binary_noncons_vs_time, binary_noninit_vs_time\n",
    "####################################################################################################\n",
    "\n",
    "consseq=\"PIVQNLQGQMVHQAISPRTLNAWVKVVEEKAFSPEVIPMFSALSEGATPQDLNTMLNTVGGHQAAMQMLKETINEEAAEWDRLHPVHAGPIAPGQMREPRGSDIAGTTSTLQEQIGWMTNNPPIPVGEIYKRWIILGLNKIVRMYSPTSILDIRQGPKEPFRDYVDRFYKTLRAEQASQEVKNWMTETLLVQNANPDCKTILKALGPAATLEEMMTACQGVGGPGHKARVL\"\n",
    "\n",
    "binarysequences, binary_noncons_vs_time, binary_noninit_vs_time=parse_aa2binary(sequences,lenseq,numseq,consseq)\n",
    "\n",
    "[binary_noncons_vs_time binary_noninit_vs_time timepoints numsamples]"
   ]
  },
  {
   "cell_type": "markdown",
   "metadata": {},
   "source": [
    "## III. Parse patient's epitopes from epitope file"
   ]
  },
  {
   "cell_type": "code",
   "execution_count": 8,
   "metadata": {},
   "outputs": [
    {
     "data": {
      "text/plain": [
       "(AbstractString[\"Gag\", \"Gag\", \"Gag\", \"Env\", \"Nef\"], [147, 162, 240, 584, 116], [155, 172, 249, 592, 124], AbstractString[\"ISPRTLNAW\", \"KAFSPEVIPMF\", \"TSTLQEQIGW\", \"ERYLRDQQL\", \"HTQGYFPDW\"], [21, 595, 21, 21, 21])"
      ]
     },
     "execution_count": 8,
     "metadata": {},
     "output_type": "execute_result"
    }
   ],
   "source": [
    "####################################################################################################\n",
    "# Output:\n",
    "# * alleptinprotein, alleptstart, alleptend, allept, alleptstarttime\n",
    "####################################################################################################\n",
    "\n",
    "include(\"functions/parse_epitopes.jl\")\n",
    "\n",
    "eptfilename=\"patient data/epitopes-\"*patient*\".dat\"\n",
    "alleptinprotein, alleptstart, alleptend, allept, alleptstarttime=parse_epitope_file(eptfilename)"
   ]
  },
  {
   "cell_type": "code",
   "execution_count": 9,
   "metadata": {},
   "outputs": [
    {
     "name": "stdout",
     "output_type": "stream",
     "text": [
      "Epitope 30...40 not included.\n"
     ]
    },
    {
     "data": {
      "text/plain": [
       "([15, 108], [23, 117], AbstractString[\"ISPRTLNAW\", \"TSTLQEQIGW\"], [21, 21])"
      ]
     },
     "execution_count": 9,
     "metadata": {},
     "output_type": "execute_result"
    }
   ],
   "source": [
    "####################################################################################################\n",
    "# Input:\n",
    "# * polyprotstart\n",
    "# * alleptinprotein, alleptstart, alleptend, allept, alleptstarttime\n",
    "\n",
    "# Output:\n",
    "# * proteptstart, proteptend, protept, proteptstarttime\n",
    "\n",
    "# Obtain start and end sites of epitopes within protein, starting with the polyprotein sequence\n",
    "# 6/21/15: obtain epitope start and end sites within p24, for epitopes within Gag\n",
    "# 6/21/16: generalize to any HIV polyprotein\n",
    "# 9/9/16: output start time too\n",
    "# 9/9/16: do not include epitopes that are beyond a certain start time\n",
    "####################################################################################################\n",
    "\n",
    "timethresh=500\n",
    "\n",
    "# initialize proteptstart, proteptend, protept\n",
    "proteptstart=Int[]\n",
    "proteptend=Int[]\n",
    "protept=AbstractString[]\n",
    "proteptstarttime=Int[]\n",
    "\n",
    "# search through alleptinprotein for instances of polyprotein1\n",
    "for k=1:length(alleptinprotein)\n",
    "    if alleptinprotein[k]==polyprotein1\n",
    "        # check if polyprotein epitope is within protein\n",
    "\n",
    "        proteptstarttemp=alleptstart[k]-polyprotstart+1\n",
    "        proteptendtemp=alleptend[k]-polyprotstart+1\n",
    "\n",
    "        if proteptstarttemp>0 && proteptendtemp<lenseq\n",
    "            # 9/9/16: do not include epitopes that are beyond a certain start time\n",
    "            if alleptstarttime[k]<timethresh\n",
    "                push!(proteptstart,proteptstarttemp)\n",
    "                push!(proteptend,proteptendtemp)\n",
    "                push!(protept,allept[k])\n",
    "                push!(proteptstarttime,alleptstarttime[k])\n",
    "            else\n",
    "                println(\"Epitope \"*string(proteptstarttemp)*\"...\"*string(proteptendtemp)*\" not included.\")\n",
    "            end\n",
    "        end\n",
    "    end\n",
    "end\n",
    "\n",
    "num_ept=length(protept)\n",
    "\n",
    "# CHECK that amino acids of protept[i] are given in sequences[1]\n",
    "for k=1:num_ept\n",
    "    searchept=findfirst(protept[k],sequences[1])[1]\n",
    "    if searchept!=proteptstart[k]\n",
    "        println(\"ERROR: protept[$k] from epitope file is different from the amino acids in sequences[1].\")\n",
    "    end\n",
    "end\n",
    "\n",
    "proteptstart, proteptend, protept, proteptstarttime"
   ]
  },
  {
   "cell_type": "markdown",
   "metadata": {},
   "source": [
    "### (Ising) obtain binary version of protept"
   ]
  },
  {
   "cell_type": "code",
   "execution_count": 10,
   "metadata": {},
   "outputs": [
    {
     "data": {
      "text/plain": [
       "2-element Array{Array,1}:\n",
       " [0, 0, 0, 0, 0, 0, 0, 0, 0]   \n",
       " [0, 0, 0, 0, 0, 0, 0, 0, 0, 0]"
      ]
     },
     "execution_count": 10,
     "metadata": {},
     "output_type": "execute_result"
    }
   ],
   "source": [
    "####################################################################################################\n",
    "# Output:\n",
    "# * proteptbinary\n",
    "####################################################################################################\n",
    "\n",
    "proteptbinary=Array[]\n",
    "for k=1:num_ept\n",
    "    push!(proteptbinary,binarysequences[proteptstart[k]:proteptend[k],1])\n",
    "end\n",
    "proteptbinary"
   ]
  },
  {
   "cell_type": "markdown",
   "metadata": {},
   "source": [
    "## (1) Wright-Fisher"
   ]
  },
  {
   "cell_type": "code",
   "execution_count": 11,
   "metadata": {
    "scrolled": true
   },
   "outputs": [],
   "source": [
    "include(\"functions/find_peak.jl\") # contains: find_peakest_stop(), find_peak()\n",
    "include(\"functions/get_fitness_ept.jl\") # contains: get_fitness(), get_fitness_ept()\n",
    "include(\"functions/run_EMF_Ising_3.jl\")\n",
    "include(\"functions/find_pops.jl\") # contains: find_pops()\n",
    "include(\"functions/find_outcome.jl\") # contains: find_outcome()\n",
    "# include(\"functions/estimate_t_ext.jl\") # contains: estimate_t_ext()\n",
    "\n",
    "include(\"functions/run_WrightFisher.jl\");"
   ]
  },
  {
   "cell_type": "markdown",
   "metadata": {},
   "source": [
    "### 181028: NL4-3"
   ]
  },
  {
   "cell_type": "code",
   "execution_count": 12,
   "metadata": {},
   "outputs": [],
   "source": [
    "# HXB2gag=\"MGARASVLSGGELDRWEKIRLRPGGKKKYKLKHIVWASRELERFAVNPGLLETSEGCRQILGQLQPSLQTGSEELRSLYNTVATLYCVHQRIEIKDTKEALDKIEEEQNKSKKKAQQAAADTGHSNQVSQNYPIVQNIQGQMVHQAISPRTLNAWVKVVEEKAFSPEVIPMFSALSEGATPQDLNTMLNTVGGHQAAMQMLKETINEEAAEWDRVHPVHAGPIAPGQMREPRGSDIAGTTSTLQEQIGWMTNNPPIPVGEIYKRWIILGLNKIVRMYSPTSILDIRQGPKEPFRDYVDRFYKTLRAEQASQEVKNWMTETLLVQNANPDCKTILKALGPAATLEEMMTACQGVGGPGHKARVLAEAMSQVTNSATIMMQRGNFRNQRKIVKCFNCGKEGHTARNCRAPRKKGCWKCGKEGHQMKDCTERQANFLGKIWPSYKGRPGNFLQSRPEPTAPPEESFRSGVETTTPPQKQEPIDKELYPLTSLRSLFGNDPSSQ\"\n",
    "NL43gag=\"MGARASVLSGGELDKWEKIRLRPGGKKQYKLKHIVWASRELERFAVNPGLLETSEGCRQILGQLQPSLQTGSEELRSLYNTIAVLYCVHQRIDVKDTKEALDKIEEEQNKSKKKAQQAAADTGNNSQVSQNYPIVQNLQGQMVHQAISPRTLNAWVKVVEEKAFSPEVIPMFSALSEGATPQDLNTMLNTVGGHQAAMQMLKETINEEAAEWDRLHPVHAGPIAPGQMREPRGSDIAGTTSTLQEQIGWMTHNPPIPVGEIYKRWIILGLNKIVRMYSPTSILDIRQGPKEPFRDYVDRFYKTLRAEQASQEVKNWMTETLLVQNANPDCKTILKALGPGATLEEMMTACQGVGGPGHKARVLAEAMSQVTNPATIMIQKGNFRNQRKTVKCFNCGKEGHIAKNCRAPRKKGCWKCGKEGHQMKDCTERQANFLGKIWPSHKGRPGNFLQSRPEPTAPPEESFRFGEETTTPSQKQEPIDKELYPLASLRSLFGSDPSSQ\"\n",
    "NL43seq=NL43gag[132+1:132+L]\n",
    "\n",
    "NL43sites=Int[]\n",
    "for i=1:L\n",
    "    if NL43seq[i]!=consseq[i]\n",
    "        push!(NL43sites,i)\n",
    "    end\n",
    "end\n",
    "\n",
    "NL43binaryseq=zeros(Int,L)\n",
    "for i in NL43sites\n",
    "    NL43binaryseq[i]=1\n",
    "end"
   ]
  },
  {
   "cell_type": "markdown",
   "metadata": {},
   "source": [
    "### Parameter values"
   ]
  },
  {
   "cell_type": "code",
   "execution_count": 13,
   "metadata": {},
   "outputs": [],
   "source": [
    "# 181027: redefining parameter values\n",
    "mu=3.6e-5\n",
    "tf=100\n",
    "beta=0.023\n",
    "Jbeta=beta*ising_params\n",
    "\n",
    "# 181207: define rho\n",
    "rho=1.4e-5\n",
    "\n",
    "# seqinit=zeros(L)\n",
    "# seqinit=NL43binaryseq\n",
    "seqinit=binarysequences[:,1]\n",
    "\n",
    "# 181206: define N\n",
    "N=round(Int,1e4)\n",
    "\n",
    "# 181206: define seqs_init\n",
    "seqs_init=ones(N)'.*seqinit\n",
    "\n",
    "# 181027: redefining F_0 and b_tot\n",
    "F_0=1.6\n",
    "b_tot=-6\n",
    "\n",
    "# 181027: naive response kinetics\n",
    "t_0_naive=7\n",
    "t_half_naive=7\n",
    "n_Hill_naive=2\n",
    "t_vec_naive=collect(t_0_naive:tf)\n",
    "b_Hill_vec_naive=(t_vec_naive.-t_0_naive).^n_Hill_naive./\n",
    "                 (t_half_naive^n_Hill_naive.+(t_vec_naive.-t_0_naive).^n_Hill_naive)\n",
    "ept_field=b_tot/num_ept*cat(zeros(t_0_naive),b_Hill_vec_naive,dims=1);"
   ]
  },
  {
   "cell_type": "markdown",
   "metadata": {},
   "source": [
    "### EMF"
   ]
  },
  {
   "cell_type": "code",
   "execution_count": 15,
   "metadata": {},
   "outputs": [
    {
     "name": "stdout",
     "output_type": "stream",
     "text": [
      "  0.007477 seconds (3.44 k allocations: 5.830 MiB)\n"
     ]
    },
    {
     "data": {
      "text/plain": [
       "([-0.148285 -0.148277 … -0.159838 -0.159878; -0.103809 -0.103801 … -0.11657 -0.116654; … ; -0.0157142 -0.0157193 … -0.0333905 -0.0334112; -0.109402 -0.1094 … -0.101353 -0.10142], [0.0 3.10388e-5 … 0.000208055 0.000207998; 0.0 3.24504e-5 … 0.000293242 0.000293006; … ; 0.0 3.54387e-5 … 0.00102417 0.00102532; 0.0 3.22694e-5 … 0.00033966 0.000339442], [0.0, 0.0, 0.0, 0.0, 0.0, 0.0, 0.0, 0.0, 0.0, 0.0  …  0.0, 0.0, 0.0, 0.0, 0.0, 0.0, 0.0, 0.0, 0.0, 0.0])"
      ]
     },
     "execution_count": 15,
     "metadata": {},
     "output_type": "execute_result"
    }
   ],
   "source": [
    "@time hEff_inf_dmf1, m_inf_dmf1,=run_EMF_Ising_3(L,mu,tf,Jbeta,seqinit,\n",
    "# @time hEff_inf_dmf1_muArray, m_inf_dmf1_muArray,=run_EMF_Ising_3(L,muArray,tf,Jbeta,seqinit,\n",
    "            ept_on=\"on\",ept_start=proteptstart,ept_end=proteptend,ept_field=ept_field,ept_init=proteptbinary)"
   ]
  },
  {
   "cell_type": "markdown",
   "metadata": {},
   "source": [
    "### Wright-Fisher"
   ]
  },
  {
   "cell_type": "code",
   "execution_count": 19,
   "metadata": {},
   "outputs": [
    {
     "name": "stdout",
     "output_type": "stream",
     "text": [
      "102.844499 seconds (12.23 M allocations: 98.977 GiB, 22.06% gc time)\n"
     ]
    }
   ],
   "source": [
    "# 181206: run_WrightFisher()\n",
    "@time seqsMat=run_WrightFisher(Jbeta,L,mu,N,rho,seqs_init,tf,\n",
    "            ept_on=\"on\",ept_start=proteptstart,ept_end=proteptend,ept_field=ept_field,ept_init=proteptbinary)\n",
    "\n",
    "# 181206: compute mutant frequencies\n",
    "mutfreqs=sum(seqsMat,dims=2)/N;"
   ]
  },
  {
   "cell_type": "markdown",
   "metadata": {},
   "source": [
    "### 181211: readdlm from \"Wright-Fisher results\" folder and compute meanmutfreqs"
   ]
  },
  {
   "cell_type": "code",
   "execution_count": 20,
   "metadata": {},
   "outputs": [],
   "source": [
    "num_runs=500\n",
    "mutfreqs_all_original=zeros(L,tf+1,num_runs)\n",
    "mutfreqs_all_immunod=zeros(L,tf+1,num_runs)\n",
    "mutfreqs_all_NL43=zeros(L,tf+1,num_runs)\n",
    "\n",
    "for n=1:num_runs\n",
    "#     mutfreqs_all[:,:,n]=readdlm(\"/Volumes/My Passport/Wright-Fisher results/tf=100/original/mutfreqs\"*string(n)*\".txt\")\n",
    "    mutfreqs_all_original[:,:,n]=readdlm(\"Wright-Fisher results/tf=100/original/mutfreqs\"*string(n)*\".txt\")\n",
    "    mutfreqs_all_immunod[:,:,n]=readdlm(\"Wright-Fisher results/tf=100/immunodominance/mutfreqs\"*string(n)*\".txt\")\n",
    "    mutfreqs_all_NL43[:,:,n]=readdlm(\"Wright-Fisher results/tf=100/NL4-3/mutfreqs\"*string(n)*\".txt\")\n",
    "end\n",
    "\n",
    "meanmutfreqs_original=(sum(mutfreqs_all_original,dims=3)/num_runs)[:,:,1]\n",
    "meanmutfreqs_immunod=(sum(mutfreqs_all_immunod,dims=3)/num_runs)[:,:,1]\n",
    "meanmutfreqs_NL43=(sum(mutfreqs_all_NL43,dims=3)/num_runs)[:,:,1];"
   ]
  },
  {
   "cell_type": "markdown",
   "metadata": {},
   "source": [
    "### 181211: plot mean mutational frequencies"
   ]
  },
  {
   "cell_type": "code",
   "execution_count": 21,
   "metadata": {},
   "outputs": [
    {
     "data": {
      "image/png": "[encoded data removed]",
      "text/plain": [
       "Figure(PyObject <Figure size 640x480 with 1 Axes>)"
      ]
     },
     "metadata": {},
     "output_type": "display_data"
    }
   ],
   "source": [
    "# 181206: plot mutant frequencies\n",
    "\n",
    "# eptnum=2; site_range=proteptstart[eptnum]:proteptend[eptnum]\n",
    "site_range=[15,110,116]\n",
    "\n",
    "legendnames=AbstractString[]\n",
    "for i in site_range\n",
    "#     plot(0:tf,mutfreqs[i,1],color=num2color(i),linewidth=2); push!(legendnames,string(i))\n",
    "    \n",
    "#     plot(0:tf,meanmutfreqs_original[i,1:tf+1],color=num2color(i),linewidth=2); push!(legendnames,string(i))\n",
    "#     plot(0:tf,meanmutfreqs_immunod[i,1:tf+1],color=num2color(i),linewidth=2); push!(legendnames,string(i))\n",
    "    plot(0:tf,meanmutfreqs_NL43[i,1:tf+1],color=num2color(i),linewidth=2); push!(legendnames,string(i))\n",
    "end\n",
    "for i in site_range\n",
    "    plot(0:tf,meanmutfreqs_original[i,1:tf+1],color=num2color(i),linewidth=2,linestyle=\"--\")\n",
    "end\n",
    "\n",
    "title(\"Wright-Fisher ($patientid, $protein)\",fontsize=\"x-large\")\n",
    "xlabel(\"generations\",fontsize=\"x-large\")\n",
    "ylabel(\"frequency of mutation\",fontsize=\"x-large\")\n",
    "xticks(fontsize=\"x-large\")\n",
    "yticks(fontsize=\"x-large\")\n",
    "xlim(0,tf)\n",
    "ylim(0,1)\n",
    "if length(site_range)<=10\n",
    "    boxloc=[0,1]\n",
    "    legend(legendnames,loc=\"upper left\", bbox_to_anchor=boxloc, borderaxespad=0.5,fontsize=\"large\")\n",
    "end;"
   ]
  },
  {
   "cell_type": "markdown",
   "metadata": {},
   "source": [
    "### Multiple Wright-Fisher simulations"
   ]
  },
  {
   "cell_type": "code",
   "execution_count": 18,
   "metadata": {
    "scrolled": true
   },
   "outputs": [
    {
     "name": "stdout",
     "output_type": "stream",
     "text": [
      " 96.954235 seconds (31.93 M allocations: 103.210 GiB, 32.92% gc time)\n",
      "115.249686 seconds (31.93 M allocations: 103.210 GiB, 30.60% gc time)\n",
      "100.254042 seconds (31.94 M allocations: 103.210 GiB, 33.81% gc time)\n",
      " 86.526544 seconds (31.93 M allocations: 103.210 GiB, 33.60% gc time)\n",
      " 91.782654 seconds (31.93 M allocations: 103.210 GiB, 34.54% gc time)\n",
      " 79.546896 seconds (31.93 M allocations: 103.210 GiB, 35.55% gc time)\n",
      " 79.820421 seconds (31.94 M allocations: 103.212 GiB, 35.14% gc time)\n",
      " 79.768912 seconds (31.94 M allocations: 103.211 GiB, 35.26% gc time)\n",
      " 80.279008 seconds (31.93 M allocations: 103.210 GiB, 35.55% gc time)\n",
      " 79.707217 seconds (31.94 M allocations: 103.212 GiB, 35.04% gc time)\n",
      " 79.772185 seconds (31.93 M allocations: 103.209 GiB, 35.34% gc time)\n",
      " 79.629708 seconds (31.94 M allocations: 103.211 GiB, 35.49% gc time)\n",
      " 79.990195 seconds (31.93 M allocations: 103.210 GiB, 35.71% gc time)\n",
      " 81.429443 seconds (31.94 M allocations: 103.211 GiB, 34.63% gc time)\n",
      " 80.534664 seconds (31.93 M allocations: 103.210 GiB, 35.27% gc time)\n",
      "113.115809 seconds (31.93 M allocations: 103.210 GiB, 32.55% gc time)\n",
      " 94.203845 seconds (31.93 M allocations: 103.210 GiB, 33.46% gc time)\n",
      " 87.507161 seconds (31.93 M allocations: 103.210 GiB, 35.34% gc time)\n",
      " 88.181339 seconds (31.94 M allocations: 103.210 GiB, 35.21% gc time)\n",
      " 89.425051 seconds (31.93 M allocations: 103.210 GiB, 34.99% gc time)\n",
      " 87.606894 seconds (31.93 M allocations: 103.210 GiB, 35.39% gc time)\n",
      " 88.169919 seconds (31.93 M allocations: 103.210 GiB, 35.23% gc time)\n",
      " 87.444311 seconds (31.94 M allocations: 103.211 GiB, 35.24% gc time)\n",
      " 88.023383 seconds (31.93 M allocations: 103.210 GiB, 35.41% gc time)\n",
      " 88.482634 seconds (31.93 M allocations: 103.210 GiB, 35.14% gc time)\n",
      " 88.014549 seconds (31.93 M allocations: 103.209 GiB, 35.17% gc time)\n",
      " 80.407800 seconds (31.93 M allocations: 103.209 GiB, 35.37% gc time)\n",
      " 80.586282 seconds (31.93 M allocations: 103.210 GiB, 35.21% gc time)\n",
      " 80.039206 seconds (31.93 M allocations: 103.210 GiB, 34.76% gc time)\n",
      " 81.490500 seconds (31.94 M allocations: 103.212 GiB, 35.92% gc time)\n",
      " 80.337800 seconds (31.94 M allocations: 103.210 GiB, 35.98% gc time)\n",
      " 80.864635 seconds (31.94 M allocations: 103.211 GiB, 35.68% gc time)\n",
      " 80.921488 seconds (31.94 M allocations: 103.211 GiB, 35.21% gc time)\n",
      " 81.016667 seconds (31.94 M allocations: 103.211 GiB, 35.75% gc time)\n",
      " 80.284161 seconds (31.94 M allocations: 103.211 GiB, 35.58% gc time)\n",
      " 79.962716 seconds (31.93 M allocations: 103.210 GiB, 35.11% gc time)\n",
      " 80.417480 seconds (31.94 M allocations: 103.211 GiB, 35.83% gc time)\n",
      " 80.852558 seconds (31.94 M allocations: 103.211 GiB, 35.56% gc time)\n",
      " 80.196408 seconds (31.93 M allocations: 103.210 GiB, 35.19% gc time)\n",
      " 80.932271 seconds (31.93 M allocations: 103.210 GiB, 35.78% gc time)\n",
      " 80.552150 seconds (31.93 M allocations: 103.210 GiB, 35.21% gc time)\n",
      " 81.032669 seconds (31.94 M allocations: 103.211 GiB, 35.80% gc time)\n",
      " 79.476839 seconds (31.94 M allocations: 103.211 GiB, 35.91% gc time)\n",
      " 80.872328 seconds (31.94 M allocations: 103.211 GiB, 34.84% gc time)\n",
      " 82.712096 seconds (31.94 M allocations: 103.211 GiB, 35.76% gc time)\n",
      " 80.790771 seconds (31.94 M allocations: 103.211 GiB, 34.79% gc time)\n",
      " 80.093287 seconds (31.93 M allocations: 103.210 GiB, 35.51% gc time)\n",
      " 80.165395 seconds (31.94 M allocations: 103.211 GiB, 35.16% gc time)\n",
      " 80.501810 seconds (31.93 M allocations: 103.210 GiB, 36.03% gc time)\n",
      " 80.150023 seconds (31.94 M allocations: 103.211 GiB, 35.69% gc time)\n",
      " 80.084738 seconds (31.93 M allocations: 103.210 GiB, 35.36% gc time)\n",
      " 80.336022 seconds (31.94 M allocations: 103.211 GiB, 35.85% gc time)\n",
      " 80.232739 seconds (31.94 M allocations: 103.211 GiB, 34.94% gc time)\n",
      " 78.827723 seconds (31.94 M allocations: 103.211 GiB, 35.36% gc time)\n",
      " 79.417475 seconds (31.94 M allocations: 103.211 GiB, 35.48% gc time)\n",
      " 79.647182 seconds (31.94 M allocations: 103.211 GiB, 35.89% gc time)\n",
      " 80.200243 seconds (31.94 M allocations: 103.211 GiB, 35.36% gc time)\n",
      " 79.624101 seconds (31.94 M allocations: 103.211 GiB, 34.91% gc time)\n",
      " 80.341471 seconds (31.94 M allocations: 103.211 GiB, 35.52% gc time)\n",
      " 80.435395 seconds (31.93 M allocations: 103.210 GiB, 35.45% gc time)\n",
      " 79.738791 seconds (31.94 M allocations: 103.212 GiB, 35.16% gc time)\n",
      " 79.138594 seconds (31.94 M allocations: 103.211 GiB, 35.38% gc time)\n",
      " 78.990511 seconds (31.94 M allocations: 103.211 GiB, 34.52% gc time)\n",
      " 85.857018 seconds (31.94 M allocations: 103.211 GiB, 35.95% gc time)\n",
      " 82.368849 seconds (31.93 M allocations: 103.210 GiB, 35.77% gc time)\n",
      " 79.938224 seconds (31.93 M allocations: 103.210 GiB, 35.44% gc time)\n",
      " 79.540431 seconds (31.93 M allocations: 103.210 GiB, 35.49% gc time)\n",
      " 79.380429 seconds (31.93 M allocations: 103.210 GiB, 35.29% gc time)\n",
      " 79.556388 seconds (31.94 M allocations: 103.211 GiB, 35.60% gc time)\n",
      " 79.764547 seconds (31.94 M allocations: 103.211 GiB, 35.44% gc time)\n",
      " 80.572700 seconds (31.94 M allocations: 103.210 GiB, 35.32% gc time)\n",
      " 79.586944 seconds (31.94 M allocations: 103.211 GiB, 35.01% gc time)\n",
      " 79.639334 seconds (31.94 M allocations: 103.211 GiB, 35.97% gc time)\n",
      " 79.339588 seconds (31.93 M allocations: 103.210 GiB, 34.85% gc time)\n",
      " 79.556900 seconds (31.94 M allocations: 103.211 GiB, 35.06% gc time)\n",
      " 80.348138 seconds (31.94 M allocations: 103.211 GiB, 34.66% gc time)\n",
      " 82.953132 seconds (31.94 M allocations: 103.211 GiB, 35.77% gc time)\n",
      " 91.304572 seconds (31.94 M allocations: 103.212 GiB, 34.10% gc time)\n",
      " 83.864976 seconds (31.94 M allocations: 103.211 GiB, 35.37% gc time)\n",
      " 80.507488 seconds (31.93 M allocations: 103.210 GiB, 35.76% gc time)\n",
      " 79.865518 seconds (31.93 M allocations: 103.210 GiB, 35.39% gc time)\n",
      " 80.801916 seconds (31.93 M allocations: 103.210 GiB, 35.26% gc time)\n",
      " 79.915149 seconds (31.94 M allocations: 103.212 GiB, 35.19% gc time)\n",
      " 80.821392 seconds (31.94 M allocations: 103.211 GiB, 35.44% gc time)\n",
      " 80.023102 seconds (31.94 M allocations: 103.211 GiB, 35.36% gc time)\n",
      " 81.113562 seconds (31.94 M allocations: 103.211 GiB, 35.34% gc time)\n",
      " 80.672806 seconds (31.94 M allocations: 103.211 GiB, 35.50% gc time)\n",
      " 79.601713 seconds (31.93 M allocations: 103.209 GiB, 34.49% gc time)\n",
      " 79.974806 seconds (31.94 M allocations: 103.211 GiB, 35.99% gc time)\n",
      " 84.774375 seconds (31.94 M allocations: 103.211 GiB, 35.99% gc time)\n",
      " 81.525839 seconds (31.94 M allocations: 103.211 GiB, 36.09% gc time)\n",
      " 79.607021 seconds (31.93 M allocations: 103.210 GiB, 35.36% gc time)\n",
      " 79.273710 seconds (31.94 M allocations: 103.211 GiB, 35.94% gc time)\n",
      " 79.940676 seconds (31.94 M allocations: 103.211 GiB, 35.77% gc time)\n",
      " 80.605009 seconds (31.93 M allocations: 103.210 GiB, 34.87% gc time)\n",
      " 80.346539 seconds (31.93 M allocations: 103.210 GiB, 35.81% gc time)\n",
      " 80.346469 seconds (31.94 M allocations: 103.210 GiB, 35.47% gc time)\n",
      " 80.571306 seconds (31.93 M allocations: 103.209 GiB, 35.73% gc time)\n",
      " 79.341355 seconds (31.94 M allocations: 103.211 GiB, 35.28% gc time)\n",
      " 80.099019 seconds (31.94 M allocations: 103.211 GiB, 35.28% gc time)\n",
      " 80.780635 seconds (31.95 M allocations: 103.212 GiB, 35.32% gc time)\n",
      " 81.408284 seconds (31.93 M allocations: 103.210 GiB, 35.35% gc time)\n",
      " 79.656807 seconds (31.94 M allocations: 103.211 GiB, 35.64% gc time)\n",
      " 80.751241 seconds (31.93 M allocations: 103.210 GiB, 35.35% gc time)\n",
      " 80.243829 seconds (31.94 M allocations: 103.211 GiB, 34.22% gc time)\n",
      " 80.360556 seconds (31.93 M allocations: 103.210 GiB, 35.46% gc time)\n",
      " 79.452092 seconds (31.94 M allocations: 103.210 GiB, 35.51% gc time)\n",
      " 80.188136 seconds (31.94 M allocations: 103.211 GiB, 35.46% gc time)\n",
      " 81.633356 seconds (31.93 M allocations: 103.209 GiB, 35.74% gc time)\n",
      " 80.452586 seconds (31.94 M allocations: 103.211 GiB, 35.30% gc time)\n",
      " 79.825212 seconds (31.93 M allocations: 103.210 GiB, 35.81% gc time)\n",
      " 81.277248 seconds (31.93 M allocations: 103.210 GiB, 35.74% gc time)\n",
      " 80.848815 seconds (31.93 M allocations: 103.210 GiB, 35.59% gc time)\n",
      " 81.160169 seconds (31.94 M allocations: 103.211 GiB, 35.48% gc time)\n",
      " 80.294866 seconds (31.93 M allocations: 103.210 GiB, 35.72% gc time)\n",
      " 80.412369 seconds (31.93 M allocations: 103.210 GiB, 35.47% gc time)\n",
      " 80.649062 seconds (31.94 M allocations: 103.211 GiB, 35.58% gc time)\n",
      " 80.432316 seconds (31.93 M allocations: 103.209 GiB, 35.55% gc time)\n"
     ]
    },
    {
     "name": "stdout",
     "output_type": "stream",
     "text": [
      " 79.975328 seconds (31.93 M allocations: 103.210 GiB, 34.92% gc time)\n",
      " 80.126769 seconds (31.93 M allocations: 103.210 GiB, 35.77% gc time)\n",
      " 80.094460 seconds (31.93 M allocations: 103.210 GiB, 35.29% gc time)\n",
      " 80.541612 seconds (31.93 M allocations: 103.210 GiB, 35.17% gc time)\n",
      " 80.655682 seconds (31.94 M allocations: 103.211 GiB, 35.47% gc time)\n",
      " 81.358867 seconds (31.94 M allocations: 103.211 GiB, 35.67% gc time)\n",
      " 80.996812 seconds (31.94 M allocations: 103.211 GiB, 35.83% gc time)\n",
      " 80.983453 seconds (31.93 M allocations: 103.210 GiB, 35.90% gc time)\n",
      " 80.602117 seconds (31.94 M allocations: 103.211 GiB, 34.81% gc time)\n",
      " 80.339289 seconds (31.93 M allocations: 103.210 GiB, 35.92% gc time)\n",
      " 81.071926 seconds (31.93 M allocations: 103.210 GiB, 35.95% gc time)\n",
      " 80.641102 seconds (31.93 M allocations: 103.209 GiB, 35.59% gc time)\n",
      " 81.093343 seconds (31.94 M allocations: 103.210 GiB, 36.03% gc time)\n",
      " 80.388716 seconds (31.94 M allocations: 103.211 GiB, 35.89% gc time)\n",
      " 80.561117 seconds (31.93 M allocations: 103.210 GiB, 35.83% gc time)\n",
      " 80.494085 seconds (31.93 M allocations: 103.210 GiB, 36.07% gc time)\n",
      " 80.540713 seconds (31.94 M allocations: 103.211 GiB, 35.48% gc time)\n",
      " 80.672711 seconds (31.94 M allocations: 103.211 GiB, 35.63% gc time)\n",
      " 80.104024 seconds (31.93 M allocations: 103.209 GiB, 35.16% gc time)\n",
      " 80.481646 seconds (31.94 M allocations: 103.210 GiB, 35.74% gc time)\n",
      " 80.545256 seconds (31.93 M allocations: 103.210 GiB, 35.37% gc time)\n",
      " 80.622679 seconds (31.94 M allocations: 103.211 GiB, 34.71% gc time)\n",
      " 81.210321 seconds (31.93 M allocations: 103.209 GiB, 35.87% gc time)\n",
      " 80.463206 seconds (31.94 M allocations: 103.211 GiB, 35.50% gc time)\n",
      " 81.639974 seconds (31.93 M allocations: 103.210 GiB, 35.01% gc time)\n",
      " 80.419073 seconds (31.94 M allocations: 103.211 GiB, 35.94% gc time)\n",
      " 81.053346 seconds (31.93 M allocations: 103.209 GiB, 35.40% gc time)\n",
      " 82.739088 seconds (31.94 M allocations: 103.211 GiB, 36.25% gc time)\n",
      " 80.715271 seconds (31.94 M allocations: 103.211 GiB, 35.83% gc time)\n",
      " 80.106927 seconds (31.92 M allocations: 103.209 GiB, 35.52% gc time)\n",
      " 80.415241 seconds (31.93 M allocations: 103.210 GiB, 35.12% gc time)\n",
      " 80.306040 seconds (31.93 M allocations: 103.209 GiB, 35.25% gc time)\n",
      " 80.666755 seconds (31.93 M allocations: 103.210 GiB, 35.07% gc time)\n",
      " 80.301634 seconds (31.94 M allocations: 103.211 GiB, 36.03% gc time)\n",
      " 81.355997 seconds (31.94 M allocations: 103.211 GiB, 35.61% gc time)\n",
      " 80.787184 seconds (31.95 M allocations: 103.212 GiB, 35.52% gc time)\n",
      " 80.836780 seconds (31.94 M allocations: 103.211 GiB, 35.50% gc time)\n",
      " 80.561389 seconds (31.94 M allocations: 103.211 GiB, 35.79% gc time)\n",
      " 80.451633 seconds (31.93 M allocations: 103.210 GiB, 35.43% gc time)\n",
      " 80.252422 seconds (31.94 M allocations: 103.211 GiB, 35.18% gc time)\n",
      " 79.968866 seconds (31.95 M allocations: 103.212 GiB, 35.83% gc time)\n",
      " 80.519347 seconds (31.94 M allocations: 103.210 GiB, 36.15% gc time)\n",
      " 80.264772 seconds (31.93 M allocations: 103.210 GiB, 35.67% gc time)\n",
      " 80.091524 seconds (31.94 M allocations: 103.211 GiB, 35.71% gc time)\n",
      " 80.368680 seconds (31.93 M allocations: 103.210 GiB, 35.32% gc time)\n",
      " 80.839634 seconds (31.93 M allocations: 103.210 GiB, 35.76% gc time)\n",
      " 80.262590 seconds (31.94 M allocations: 103.211 GiB, 35.47% gc time)\n",
      " 80.153750 seconds (31.94 M allocations: 103.212 GiB, 35.81% gc time)\n",
      " 80.842281 seconds (31.94 M allocations: 103.212 GiB, 35.44% gc time)\n",
      " 81.281744 seconds (31.94 M allocations: 103.211 GiB, 35.56% gc time)\n",
      " 80.675530 seconds (31.93 M allocations: 103.210 GiB, 35.96% gc time)\n",
      " 79.905348 seconds (31.94 M allocations: 103.211 GiB, 35.41% gc time)\n",
      " 80.612706 seconds (31.94 M allocations: 103.211 GiB, 35.62% gc time)\n",
      " 80.165536 seconds (31.93 M allocations: 103.210 GiB, 36.10% gc time)\n",
      " 80.941353 seconds (31.94 M allocations: 103.211 GiB, 35.34% gc time)\n",
      " 81.094836 seconds (31.94 M allocations: 103.211 GiB, 35.75% gc time)\n",
      " 80.833805 seconds (31.94 M allocations: 103.210 GiB, 35.37% gc time)\n",
      " 80.322635 seconds (31.94 M allocations: 103.212 GiB, 35.30% gc time)\n",
      " 80.567613 seconds (31.93 M allocations: 103.210 GiB, 35.62% gc time)\n",
      " 80.853005 seconds (31.93 M allocations: 103.210 GiB, 35.04% gc time)\n",
      " 80.467646 seconds (31.93 M allocations: 103.210 GiB, 35.58% gc time)\n",
      " 82.472753 seconds (31.94 M allocations: 103.212 GiB, 35.96% gc time)\n",
      " 80.117792 seconds (31.93 M allocations: 103.210 GiB, 35.58% gc time)\n",
      " 80.510450 seconds (31.94 M allocations: 103.212 GiB, 35.00% gc time)\n",
      " 80.661203 seconds (31.95 M allocations: 103.212 GiB, 35.85% gc time)\n",
      " 80.481116 seconds (31.93 M allocations: 103.210 GiB, 36.07% gc time)\n",
      " 80.410811 seconds (31.94 M allocations: 103.211 GiB, 35.93% gc time)\n",
      " 68.239690 seconds (31.93 M allocations: 103.209 GiB, 36.64% gc time)\n",
      " 63.769322 seconds (31.94 M allocations: 103.211 GiB, 36.85% gc time)\n",
      " 63.427039 seconds (31.93 M allocations: 103.209 GiB, 36.75% gc time)\n",
      " 64.096232 seconds (31.94 M allocations: 103.211 GiB, 36.81% gc time)\n",
      " 63.057378 seconds (31.93 M allocations: 103.209 GiB, 36.86% gc time)\n",
      " 63.699170 seconds (31.93 M allocations: 103.210 GiB, 36.89% gc time)\n",
      " 65.214135 seconds (31.93 M allocations: 103.210 GiB, 36.66% gc time)\n"
     ]
    }
   ],
   "source": [
    "num_runs=500\n",
    "totprevruns=308 # to add to Wright-Fisher simulation results over several sessions\n",
    "\n",
    "for n=totprevruns+1:num_runs\n",
    "    @time seqsMat=run_WrightFisher(Jbeta,L,mu,N,rho,seqs_init,tf,\n",
    "                ept_on=\"on\",ept_start=proteptstart,ept_end=proteptend,ept_field=ept_field,ept_init=proteptbinary)\n",
    "    \n",
    "    # 181206: compute mutant frequencies\n",
    "    mutfreqs=(sum(seqsMat,dims=2)/N)[:,1,:]\n",
    "    writedlm(\"/Volumes/My Passport/Wright-Fisher results/original/mutfreqs\"*string(n)*\".txt\",mutfreqs)\n",
    "end"
   ]
  },
  {
   "cell_type": "markdown",
   "metadata": {},
   "source": [
    "### 181213: Wright-Fisher with immunodominance"
   ]
  },
  {
   "cell_type": "code",
   "execution_count": 19,
   "metadata": {},
   "outputs": [],
   "source": [
    "# 180517: implement immunodominance\n",
    "immunod=[1/6,5/6]\n",
    "ept_field_immunod=zeros(num_ept,tf+1)\n",
    "for k=1:num_ept\n",
    "    ept_field_immunod[k,:]=immunod[k]*b_tot*cat(zeros(t_0_naive),b_Hill_vec_naive,dims=1)\n",
    "end\n",
    "\n",
    "num_runs=500\n",
    "totprevruns=2 # to add to Wright-Fisher simulation results over several sessions\n",
    "\n",
    "for n=totprevruns+1:num_runs\n",
    "    seqsMat=run_WrightFisher(Jbeta,L,mu,N,rho,seqs_init,tf,\n",
    "                ept_on=\"on\",ept_start=proteptstart,ept_end=proteptend,ept_field=ept_field_immunod,ept_init=proteptbinary)\n",
    "#     writedlm(\"/Volumes/My Passport/Wright-Fisher results/immunodominance/seqsMat\"*string(n)*\".txt\",seqsMat)\n",
    "    \n",
    "    # 181206: compute mutant frequencies\n",
    "    mutfreqs=(sum(seqsMat,dims=2)/N)[:,1,:]\n",
    "    writedlm(\"/Volumes/My Passport/Wright-Fisher results/immunodominance/mutfreqs\"*string(n)*\".txt\",mutfreqs)\n",
    "end"
   ]
  },
  {
   "cell_type": "markdown",
   "metadata": {},
   "source": [
    "## (1.1) Mutant frequencies"
   ]
  },
  {
   "cell_type": "code",
   "execution_count": 27,
   "metadata": {},
   "outputs": [
    {
     "data": {
      "text/plain": [
       "10-element Array{Float64,1}:\n",
       "   4.0\n",
       "   4.0\n",
       " 262.0\n",
       "   4.0\n",
       "   6.0\n",
       "   4.0\n",
       "   2.0\n",
       "  98.0\n",
       " 116.0\n",
       "   0.0"
      ]
     },
     "execution_count": 27,
     "metadata": {},
     "output_type": "execute_result"
    }
   ],
   "source": [
    "# 180820: find site with largest mutant frequency for each run\n",
    "\n",
    "eptnum=2; site_range=proteptstart[eptnum]:proteptend[eptnum]\n",
    "hist_runs=zeros(length(site_range))\n",
    "\n",
    "for n=1:num_runs\n",
    "    max_site=findfirst(isequal(maximum(mutfreqs_all_original[site_range,end,n])),mutfreqs_all_original[site_range,end,n])\n",
    "    hist_runs[max_site]+=1\n",
    "end\n",
    "\n",
    "hist_runs"
   ]
  },
  {
   "cell_type": "code",
   "execution_count": 28,
   "metadata": {},
   "outputs": [
    {
     "data": {
      "image/png": "[encoded data removed]",
      "text/plain": [
       "Figure(PyObject <Figure size 640x480 with 1 Axes>)"
      ]
     },
     "metadata": {},
     "output_type": "display_data"
    }
   ],
   "source": [
    "# 180820: create pie chart of largest-frequency mutations in epitope among the simulation runs\n",
    "\n",
    "# 180821: create same color scheme as num2color()\n",
    "ept_colors=String[]\n",
    "for i in site_range\n",
    "    push!(ept_colors,num2color(i))\n",
    "end\n",
    "\n",
    "pie(hist_runs,labels=collect(site_range),colors=ept_colors);"
   ]
  },
  {
   "cell_type": "code",
   "execution_count": null,
   "metadata": {
    "collapsed": true
   },
   "outputs": [],
   "source": []
  }
 ],
 "metadata": {
  "kernelspec": {
   "display_name": "Julia 1.1.0",
   "language": "julia",
   "name": "julia-1.1"
  },
  "language_info": {
   "file_extension": ".jl",
   "mimetype": "application/julia",
   "name": "julia",
   "version": "1.1.0"
  }
 },
 "nbformat": 4,
 "nbformat_minor": 1
}
