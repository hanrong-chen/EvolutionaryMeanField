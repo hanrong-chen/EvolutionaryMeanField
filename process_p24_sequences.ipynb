{
 "cells": [
  {
   "cell_type": "code",
   "execution_count": 1,
   "metadata": {},
   "outputs": [],
   "source": [
    "using DelimitedFiles\n",
    "using PyPlot"
   ]
  },
  {
   "cell_type": "markdown",
   "metadata": {},
   "source": [
    "### 181102: read multiple sequence alignment of HIV-1 gag"
   ]
  },
  {
   "cell_type": "code",
   "execution_count": 2,
   "metadata": {},
   "outputs": [
    {
     "name": "stdout",
     "output_type": "stream",
     "text": [
      "The first header contains \"HXB2\". Returning only subsequent headers and sequences.\n"
     ]
    },
    {
     "data": {
      "text/plain": [
       "14564"
      ]
     },
     "execution_count": 2,
     "metadata": {},
     "output_type": "execute_result"
    }
   ],
   "source": [
    "include(\"functions/parse_fasta_file.jl\")\n",
    "headers_fasta, sequences_fasta=read_fasta_file(\"LANL data/HIV-1_gag2.fasta\")\n",
    "headersall, sequencesall=remove_hxb2_fasta(headers_fasta,sequences_fasta)\n",
    "num_samplesall=length(sequencesall)"
   ]
  },
  {
   "cell_type": "markdown",
   "metadata": {},
   "source": [
    "### 181102: limit to p24 region and remove all insertions w.r.t. HXB2 sequence"
   ]
  },
  {
   "cell_type": "code",
   "execution_count": 3,
   "metadata": {},
   "outputs": [],
   "source": [
    "# HXB2 sequence\n",
    "hxb2seq=sequences_fasta[1]\n",
    "\n",
    "# define start and end positions of p24 region in MSA\n",
    "start_p24region=231\n",
    "end_p24region=487\n",
    "L=231\n",
    "\n",
    "# HXB2 sequence with gaps in p24 region\n",
    "hxb2seq_p24region=hxb2seq[start_p24region:end_p24region]\n",
    "\n",
    "# find gaps in HXB2 sequence\n",
    "indicesgaps_p24region=findall(isequal('-'),hxb2seq_p24region)\n",
    "\n",
    "# construct MSA of p24 sequences removing positions where HXB2 has gaps\n",
    "p24sequencesall=String[]\n",
    "for s in sequencesall\n",
    "    s_p24region=s[start_p24region:end_p24region]\n",
    "    \n",
    "    p24seq=s_p24region[1:indicesgaps_p24region[1]-1]\n",
    "    for k=2:length(indicesgaps_p24region)\n",
    "        p24seq*=s_p24region[indicesgaps_p24region[k-1]+1:indicesgaps_p24region[k]-1]\n",
    "    end\n",
    "    p24seq*=s_p24region[indicesgaps_p24region[end]+1:end]\n",
    "    push!(p24sequencesall,p24seq)\n",
    "end"
   ]
  },
  {
   "cell_type": "markdown",
   "metadata": {},
   "source": [
    "### 181105: remove p24 sequences with >5% '-' or 'X', and replace remaining 'X' with consensus amino acids"
   ]
  },
  {
   "cell_type": "code",
   "execution_count": 4,
   "metadata": {},
   "outputs": [],
   "source": [
    "# find how many '-' and 'X' are there in each sequence\n",
    "num_dashesall=zeros(Int,num_samplesall)\n",
    "num_Xall=zeros(Int,num_samplesall)\n",
    "for n=1:num_samplesall\n",
    "    for i=1:L\n",
    "        if p24sequencesall[n][i]=='-'\n",
    "            num_dashesall[n]+=1\n",
    "        elseif p24sequencesall[n][i]=='X'\n",
    "            num_Xall[n]+=1\n",
    "        end\n",
    "    end\n",
    "end\n",
    "\n",
    "# identify sequences with more than 11 '-' or 'X'\n",
    "p24sequencesall_toremove=round.(Int,(num_dashesall+num_Xall).>11)\n",
    "\n",
    "# remove these sequences\n",
    "p24sequences_removed=String[]\n",
    "headers=String[]\n",
    "for n=1:num_samplesall\n",
    "    if p24sequencesall_toremove[n]==0\n",
    "        push!(p24sequences_removed,p24sequencesall[n])\n",
    "        push!(headers,headersall[n])\n",
    "    end\n",
    "end"
   ]
  },
  {
   "cell_type": "code",
   "execution_count": 5,
   "metadata": {},
   "outputs": [],
   "source": [
    "# replace remaining 'X' with consensus amino acids\n",
    "\n",
    "# consensus subtype B sequence\n",
    "consseq0=\"PIVQNLQGQMVHQAISPRTLNAWVKVVEEKAFSPEVIPMFSALSEGATPQDLNTMLNTVGGHQAAMQMLKETINEEAAEWDRLHPVHAGPIAPGQMREPRGSDIAGTTSTLQEQIGWMTNNPPIPVGEIYKRWIILGLNKIVRMYSPTSILDIRQGPKEPFRDYVDRFYKTLRAEQASQEVKNWMTETLLVQNANPDCKTILKALGPAATLEEMMTACQGVGGPGHKARVL\"\n",
    "\n",
    "# construct p24sequences\n",
    "p24sequences=String[]\n",
    "for s in p24sequences_removed\n",
    "    stemp=\"\" # reconstructed p24 sequence\n",
    "    iprev=1\n",
    "    for i=1:L\n",
    "        if s[i]=='X'\n",
    "            stemp=join([stemp,s[iprev:i-1],consseq0[i]])\n",
    "            iprev=i+1\n",
    "        end\n",
    "    end\n",
    "    stemp*=s[iprev:L]\n",
    "    push!(p24sequences,stemp)\n",
    "end"
   ]
  },
  {
   "cell_type": "markdown",
   "metadata": {},
   "source": [
    "### 181102: find all unique patient codes"
   ]
  },
  {
   "cell_type": "code",
   "execution_count": 6,
   "metadata": {},
   "outputs": [],
   "source": [
    "# define num_samples and quantities from headers\n",
    "num_samples=length(p24sequences)\n",
    "seqnames, patient_codes, patient_IDs=parse_MSA_headers(headers);"
   ]
  },
  {
   "cell_type": "code",
   "execution_count": 7,
   "metadata": {},
   "outputs": [
    {
     "data": {
      "text/plain": [
       "5870"
      ]
     },
     "execution_count": 7,
     "metadata": {},
     "output_type": "execute_result"
    }
   ],
   "source": [
    "# sort patient_codes\n",
    "perm=sortperm(patient_codes)\n",
    "writedlm(\"p24 landscape/patient_codes_sorted.txt\",patient_codes[perm])\n",
    "\n",
    "# 181105: ensure that patient code \"-\" is sorted to the beginning\n",
    "if patient_codes[perm[1]]!=\"-\"\n",
    "    println(\"ERROR: Patient code \\\"-\\\" (unassigned) not found.\")\n",
    "end\n",
    "\n",
    "# define unique patient codes and their number of samples\n",
    "unique_patient_codes=String[]\n",
    "num_samples_unique=Int[]\n",
    "\n",
    "# 181105: input all instances of \"-\" as a unique patient\n",
    "this_code=0 # patient code currently running through\n",
    "next_index=0 # next index *after* first patient_code different from \"-\"\n",
    "for n=1:num_samples\n",
    "    if patient_codes[perm[n]]==\"-\"\n",
    "        push!(unique_patient_codes,\"-\")\n",
    "        push!(num_samples_unique,1)\n",
    "    else\n",
    "        # start at next_index n+1 for checking against n\n",
    "        this_code=patient_codes[perm[n]]\n",
    "        next_index=n+1\n",
    "        break\n",
    "    end\n",
    "end\n",
    "\n",
    "this_num=1 # number of samples with patient code currently running through\n",
    "for c in patient_codes[perm[next_index:end]]\n",
    "    if c==this_code # check against this_code\n",
    "        this_num+=1\n",
    "    else\n",
    "        # save this_code and this_num\n",
    "        push!(unique_patient_codes,this_code)\n",
    "        push!(num_samples_unique,this_num)\n",
    "        \n",
    "        # reset this_code and this_num\n",
    "        this_code=c\n",
    "        this_num=1\n",
    "    end\n",
    "end\n",
    "\n",
    "# save the last this_code and this_num\n",
    "push!(unique_patient_codes,this_code)\n",
    "push!(num_samples_unique,this_num)\n",
    "num_patients=length(num_samples_unique)"
   ]
  },
  {
   "cell_type": "markdown",
   "metadata": {},
   "source": [
    "### 181102: binarize p24 sequences"
   ]
  },
  {
   "cell_type": "code",
   "execution_count": 8,
   "metadata": {},
   "outputs": [],
   "source": [
    "# binarize p24 sequences using consensus\n",
    "p24binarysequences=zeros(Int,L,num_samples)\n",
    "for n=1:num_samples\n",
    "    s=p24sequences[n]\n",
    "    for i=1:L\n",
    "        if s[i]!=consseq0[i]\n",
    "            p24binarysequences[i,n]=1\n",
    "        end\n",
    "    end\n",
    "end"
   ]
  },
  {
   "cell_type": "markdown",
   "metadata": {},
   "source": [
    "### 181105: find sample mean and 2nd moment"
   ]
  },
  {
   "cell_type": "code",
   "execution_count": 9,
   "metadata": {},
   "outputs": [],
   "source": [
    "# build a reweighting vector\n",
    "invreweighting_vector=zeros(num_samples)\n",
    "\n",
    "this_patient=1 # nth patient being considered\n",
    "num_patient_covered=1 # number of samples of nth patient being considered\n",
    "for n=1:num_samples\n",
    "    invreweighting_vector[perm[n]]=num_samples_unique[this_patient]\n",
    "    \n",
    "    if num_samples_unique[this_patient]==num_patient_covered\n",
    "        this_patient+=1\n",
    "        num_patient_covered=1\n",
    "    else\n",
    "        num_patient_covered+=1\n",
    "    end\n",
    "end\n",
    "reweighting_vector=1 ./invreweighting_vector/num_patients;"
   ]
  },
  {
   "cell_type": "code",
   "execution_count": 10,
   "metadata": {},
   "outputs": [],
   "source": [
    "# sample mean and 2nd moment by multiplying matrices and reweighting vector\n",
    "sample_mean=p24binarysequences*reweighting_vector\n",
    "sample_2ndmoment=reweighting_vector'.*p24binarysequences*p24binarysequences';"
   ]
  },
  {
   "cell_type": "code",
   "execution_count": 11,
   "metadata": {},
   "outputs": [],
   "source": [
    "# save sample_mean and sample_2ndmoment\n",
    "writedlm(\"p24 landscape/p24_sample_mean.txt\",sample_mean)\n",
    "writedlm(\"p24 landscape/p24_sample_2ndmoment.txt\",sample_2ndmoment);"
   ]
  },
  {
   "cell_type": "markdown",
   "metadata": {},
   "source": [
    "### 181105: write an input file in the format for ACE software"
   ]
  },
  {
   "cell_type": "code",
   "execution_count": 12,
   "metadata": {},
   "outputs": [],
   "source": [
    "# write an input file in the format for ACE software\n",
    "inputvec=zeros(round(Int,L+L*(L-1)/2))\n",
    "for i=1:L\n",
    "    inputvec[i]=sample_mean[i]\n",
    "end\n",
    "for i=1:L\n",
    "    for j=i+1:L\n",
    "        inputvec[round(Int,L+(L-1)*L/2-(L-i)*(L-i+1)/2+(j-i))]=sample_2ndmoment[i,j]\n",
    "    end\n",
    "end"
   ]
  },
  {
   "cell_type": "code",
   "execution_count": 13,
   "metadata": {},
   "outputs": [],
   "source": [
    "writedlm(\"p24 landscape/p24.p\",inputvec)"
   ]
  },
  {
   "cell_type": "markdown",
   "metadata": {},
   "source": [
    "### 181105: look at sample means and 2nd moments"
   ]
  },
  {
   "cell_type": "code",
   "execution_count": 14,
   "metadata": {},
   "outputs": [
    {
     "name": "stdout",
     "output_type": "stream",
     "text": [
      "155\n"
     ]
    }
   ],
   "source": [
    "# most conserved position(s)\n",
    "sample_mean_mostcons=sample_mean.<1e-4\n",
    "for i=1:L\n",
    "    if sample_mean_mostcons[i]==1\n",
    "        println(i)\n",
    "    end\n",
    "end"
   ]
  },
  {
   "cell_type": "code",
   "execution_count": 15,
   "metadata": {
    "collapsed": true
   },
   "outputs": [
    {
     "data": {
      "image/png": "[encoded data removed]",
      "text/plain": [
       "Figure(PyObject <Figure size 640x480 with 1 Axes>)"
      ]
     },
     "metadata": {},
     "output_type": "display_data"
    }
   ],
   "source": [
    "# histogram of sample means\n",
    "hist(log.(sample_mean),50);"
   ]
  },
  {
   "cell_type": "code",
   "execution_count": 16,
   "metadata": {
    "collapsed": true
   },
   "outputs": [
    {
     "data": {
      "image/png": "[encoded data removed]",
      "text/plain": [
       "Figure(PyObject <Figure size 640x480 with 1 Axes>)"
      ]
     },
     "metadata": {},
     "output_type": "display_data"
    }
   ],
   "source": [
    "# histogram of sample 2nd moments\n",
    "inputvec_2ndmom=inputvec[L+1:end]\n",
    "hist(inputvec_2ndmom,100);"
   ]
  },
  {
   "cell_type": "markdown",
   "metadata": {},
   "source": [
    "### compare inferred landscapes"
   ]
  },
  {
   "cell_type": "code",
   "execution_count": 17,
   "metadata": {},
   "outputs": [],
   "source": [
    "# landscapes inferred by John's ACE and MC programs\n",
    "ACE_params1=readdlm(\"p24 landscape/p24-g2-0.0005-b-5870-gh-0.001/p24-out-learn.j\")\n",
    "ACE_params2=readdlm(\"p24 landscape/p24-g2-0.0005-b-5870-gh-0.0002/p24-out-learn.j\");"
   ]
  },
  {
   "cell_type": "code",
   "execution_count": 18,
   "metadata": {
    "collapsed": true
   },
   "outputs": [
    {
     "data": {
      "image/png": "[encoded data removed]",
      "text/plain": [
       "Figure(PyObject <Figure size 640x480 with 1 Axes>)"
      ]
     },
     "metadata": {},
     "output_type": "display_data"
    }
   ],
   "source": [
    "# fields\n",
    "scatter(ACE_params1[1:L],ACE_params2[1:L])\n",
    "xlabel(\"ACE_params1\")\n",
    "ylabel(\"ACE_params2\")\n",
    "\n",
    "plot(collect(-10:1:-1),collect(-10:1:-1));"
   ]
  },
  {
   "cell_type": "code",
   "execution_count": 19,
   "metadata": {
    "collapsed": true
   },
   "outputs": [
    {
     "data": {
      "image/png": "[encoded data removed]",
      "text/plain": [
       "Figure(PyObject <Figure size 640x480 with 1 Axes>)"
      ]
     },
     "metadata": {},
     "output_type": "display_data"
    }
   ],
   "source": [
    "# couplings\n",
    "scatter(ACE_params1[L+1:end],ACE_params2[L+1:end])\n",
    "xlabel(\"ACE_params1\")\n",
    "ylabel(\"ACE_params2\")\n",
    "\n",
    "plot(collect(-3:1:4),collect(-3:1:4));"
   ]
  },
  {
   "cell_type": "code",
   "execution_count": null,
   "metadata": {},
   "outputs": [],
   "source": []
  }
 ],
 "metadata": {
  "kernelspec": {
   "display_name": "Julia 1.1.0",
   "language": "julia",
   "name": "julia-1.1"
  },
  "language_info": {
   "file_extension": ".jl",
   "mimetype": "application/julia",
   "name": "julia",
   "version": "1.1.0"
  }
 },
 "nbformat": 4,
 "nbformat_minor": 2
}
